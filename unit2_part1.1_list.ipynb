{
 "cells": [
  {
   "cell_type": "code",
   "execution_count": 4,
   "metadata": {},
   "outputs": [],
   "source": [
    "#cvopy and deep copy python lists"
   ]
  },
  {
   "cell_type": "markdown",
   "metadata": {},
   "source": []
  },
  {
   "cell_type": "markdown",
   "metadata": {},
   "source": []
  },
  {
   "cell_type": "code",
   "execution_count": 5,
   "metadata": {},
   "outputs": [],
   "source": [
    "def showDetails(*args):\n",
    "    for i in range(len(args)):\n",
    "        variable = args[i]\n",
    "        print(f\"The Value of { i+1 } variable is \\t{variable }\\t its id is \\t {id(variable)}\")\n",
    "    \n",
    "    print(\"\\n\\n\")"
   ]
  },
  {
   "cell_type": "code",
   "execution_count": 6,
   "metadata": {},
   "outputs": [
    {
     "name": "stdout",
     "output_type": "stream",
     "text": [
      "The Value of 1 variable is \t[2, 4, 6, [1, 3]]\t its id is \t 4491712384\n",
      "The Value of 2 variable is \t[2, 4, 6, [1, 3]]\t its id is \t 4491712384\n",
      "\n",
      "\n",
      "\n",
      "The Value of 1 variable is \t[2, 44, 6, [1, 3]]\t its id is \t 4491712384\n",
      "The Value of 2 variable is \t[2, 44, 6, [1, 3]]\t its id is \t 4491712384\n",
      "\n",
      "\n",
      "\n",
      "The Value of 1 variable is \t[2, 44, 6, [1, 10]]\t its id is \t 4491712384\n",
      "The Value of 2 variable is \t[2, 44, 6, [1, 10]]\t its id is \t 4491712384\n",
      "\n",
      "\n",
      "\n"
     ]
    }
   ],
   "source": [
    "listA = [2, 4, 6, [1, 3]]\n",
    "listB = listA\n",
    "showDetails(listA,listB)\n",
    "listB[1] = 44\n",
    "\n",
    "showDetails(listA,listB)\n",
    "listB[3][1] = 10\n",
    "\n",
    "\n",
    "showDetails(listA,listB)"
   ]
  },
  {
   "cell_type": "code",
   "execution_count": 7,
   "metadata": {},
   "outputs": [],
   "source": [
    "#Shallow copy using the list() constructor\n",
    "# it only works for 1D lists of native data types"
   ]
  },
  {
   "cell_type": "code",
   "execution_count": 8,
   "metadata": {},
   "outputs": [
    {
     "name": "stdout",
     "output_type": "stream",
     "text": [
      "The Value of 1 variable is \t[2, 4, 6, [1, 3]]\t its id is \t 4491341376\n",
      "The Value of 2 variable is \t[2, 4, 6, [1, 3]]\t its id is \t 4491743552\n",
      "\n",
      "\n",
      "\n",
      "The Value of 1 variable is \t[2, 4, 6, [55, 3]]\t its id is \t 4491341376\n",
      "The Value of 2 variable is \t[2, 44, 6, [55, 3]]\t its id is \t 4491743552\n",
      "\n",
      "\n",
      "\n"
     ]
    }
   ],
   "source": [
    "listA = [2, 4, 6, [1, 3]]\n",
    "listB = list(listA)\n",
    "showDetails(listA,listB)\n",
    "\n",
    "listB[1] = 44\n",
    "listB[3][0] = 55\n",
    "\n",
    "showDetails(listA,listB)"
   ]
  },
  {
   "cell_type": "code",
   "execution_count": 9,
   "metadata": {},
   "outputs": [],
   "source": [
    "#Other ways to make a shallow copy \n",
    "#list comprehension,list.copy(),or copy.copy()can also be used to make shallow copies"
   ]
  },
  {
   "cell_type": "code",
   "execution_count": 10,
   "metadata": {},
   "outputs": [
    {
     "name": "stdout",
     "output_type": "stream",
     "text": [
      "The Value of 1 variable is \t[2, 4, 6, [1, 3]]\t its id is \t 4491342272\n",
      "The Value of 2 variable is \t[2, 4, 6, [1, 3]]\t its id is \t 4491712384\n",
      "\n",
      "\n",
      "\n",
      "The Value of 1 variable is \t[2, 4, 6, [55, 3]]\t its id is \t 4491342272\n",
      "The Value of 2 variable is \t[2, 44, 6, [55, 3]]\t its id is \t 4491712384\n",
      "\n",
      "\n",
      "\n"
     ]
    }
   ],
   "source": [
    "listA = [2, 4, 6, [1, 3]]\n",
    "listB = [x for x in listA]\n",
    "showDetails(listA,listB)\n",
    "\n",
    "listB[1] = 44\n",
    "listB[3][0] = 55\n",
    "showDetails(listA,listB)"
   ]
  },
  {
   "cell_type": "code",
   "execution_count": 11,
   "metadata": {},
   "outputs": [
    {
     "name": "stdout",
     "output_type": "stream",
     "text": [
      "The Value of 1 variable is \t[2, 4, 6, [1, 3]]\t its id is \t 4491716864\n",
      "The Value of 2 variable is \t[2, 4, 6, [1, 3]]\t its id is \t 4491743552\n",
      "\n",
      "\n",
      "\n",
      "The Value of 1 variable is \t[2, 4, 6, [55, 3]]\t its id is \t 4491716864\n",
      "The Value of 2 variable is \t[2, 44, 6, [55, 3]]\t its id is \t 4491743552\n",
      "\n",
      "\n",
      "\n"
     ]
    }
   ],
   "source": [
    "listA = [2, 4, 6, [1, 3]]\n",
    "listB = listA.copy()\n",
    "showDetails(listA,listB)\n",
    "\n",
    "listB[1] = 44\n",
    "listB[3][0] = 55\n",
    "showDetails(listA,listB)"
   ]
  },
  {
   "cell_type": "code",
   "execution_count": 12,
   "metadata": {},
   "outputs": [
    {
     "name": "stdout",
     "output_type": "stream",
     "text": [
      "The Value of 1 variable is \t[2, 4, 6, [1, 3]]\t its id is \t 4491712384\n",
      "The Value of 2 variable is \t[2, 4, 6, [1, 3]]\t its id is \t 4491718528\n",
      "\n",
      "\n",
      "\n",
      "The Value of 1 variable is \t[2, 4, 6, [55, 3]]\t its id is \t 4491712384\n",
      "The Value of 2 variable is \t[2, 44, 6, [55, 3]]\t its id is \t 4491718528\n",
      "\n",
      "\n",
      "\n"
     ]
    }
   ],
   "source": [
    "import copy\n",
    "listA = [2, 4, 6, [1, 3]]\n",
    "listB = copy.copy(listA)\n",
    "\n",
    "showDetails(listA,listB)\n",
    "listB[1] = 44\n",
    "listB[3][0] = 55\n",
    "showDetails(listA,listB)"
   ]
  },
  {
   "cell_type": "code",
   "execution_count": 13,
   "metadata": {},
   "outputs": [],
   "source": [
    "#Deep copy a python list\n",
    "#use copy.deepcopy()"
   ]
  },
  {
   "cell_type": "code",
   "execution_count": 14,
   "metadata": {},
   "outputs": [
    {
     "name": "stdout",
     "output_type": "stream",
     "text": [
      "The Value of 1 variable is \t[2, 4, 6, [1, 3]]\t its id is \t 4491664768\n",
      "The Value of 2 variable is \t[2, 4, 6, [1, 3]]\t its id is \t 4491748864\n",
      "\n",
      "\n",
      "\n",
      "The Value of 1 variable is \t[2, 4, 6, [1, 3]]\t its id is \t 4491664768\n",
      "The Value of 2 variable is \t[2, 44, 6, [55, 3]]\t its id is \t 4491748864\n",
      "\n",
      "\n",
      "\n"
     ]
    }
   ],
   "source": [
    "import copy\n",
    "listA = [2, 4, 6, [1, 3]]\n",
    "listB = copy.deepcopy(listA)\n",
    "showDetails(listA,listB)\n",
    "listB[1] = 44\n",
    "listB[3][0] = 55\n",
    "showDetails(listA,listB)"
   ]
  },
  {
   "cell_type": "code",
   "execution_count": 15,
   "metadata": {},
   "outputs": [],
   "source": [
    "#Deep copy with objects"
   ]
  },
  {
   "cell_type": "code",
   "execution_count": 16,
   "metadata": {},
   "outputs": [
    {
     "name": "stdout",
     "output_type": "stream",
     "text": [
      "The Value of 1 variable is \t<__main__.Pony object at 0x10760b860>\t its id is \t 4418746464\n",
      "The Value of 2 variable is \t<__main__.Pony object at 0x107624320>\t its id is \t 4418847520\n",
      "\n",
      "\n",
      "\n",
      "4418746464 4418847520\n",
      "4418746464 4418746464\n",
      "4418746464 4418847472\n"
     ]
    }
   ],
   "source": [
    "class Pony():\n",
    "    def __init__(self, n):\n",
    "        self.name = n\n",
    "        \n",
    "# copy.copy on an object gives you 2 unique objects (with same attributes)\n",
    "pony1 = Pony('Pinto')\n",
    "pony2 = copy.copy(pony1)\n",
    "showDetails(pony1,pony2)\n",
    "\n",
    "print(id(pony1), id(pony2))\n",
    "\n",
    "# copy.copy on a list of objects gives you 2 unique lists containing the exact same objects    \n",
    "# (ie. new list is a shallow copy)\n",
    "m = [pony1, pony2]\n",
    "n = copy.copy (m)\n",
    "print(id(m[0]), id(n[0]))\n",
    "\n",
    "# use copy.deepcopy to deep copy a list of objects\n",
    "n = copy.deepcopy (m)\n",
    "print(id(m[0]), id(n[0]))"
   ]
  }
 ],
 "metadata": {
  "kernelspec": {
   "display_name": "Python 3",
   "language": "python",
   "name": "python3"
  },
  "language_info": {
   "codemirror_mode": {
    "name": "ipython",
    "version": 3
   },
   "file_extension": ".py",
   "mimetype": "text/x-python",
   "name": "python",
   "nbconvert_exporter": "python",
   "pygments_lexer": "ipython3",
   "version": "3.12.5"
  }
 },
 "nbformat": 4,
 "nbformat_minor": 2
}
